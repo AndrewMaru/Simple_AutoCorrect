{
 "cells": [
  {
   "cell_type": "code",
   "execution_count": null,
   "id": "c9f8effd",
   "metadata": {
    "vscode": {
     "languageId": "plaintext"
    }
   },
   "outputs": [],
   "source": [
    "!pip install pyspellchecker"
   ]
  },
  {
   "cell_type": "code",
   "execution_count": null,
   "id": "914cf308",
   "metadata": {
    "vscode": {
     "languageId": "plaintext"
    }
   },
   "outputs": [],
   "source": [
    "from spellchecker import SpellChecker\n",
    "\n",
    "spell = SpellChecker()\n",
    "\n",
    "text = input(\"Masukkan teks yang ingin digunakan\") #kata kata yang ingin dibenarkan hanya dalam bahasa inggrisx\n",
    "\n",
    "text_lower = text.lower()\n",
    "\n",
    "dict_of_autocorrect_words = {}\n",
    "for i in spell.unknown(text_lower.split()):\n",
    "    dict_of_autocorrect_words[i] = spell.correction(i)\n",
    "\n",
    "print(f'The AUTOCORRECT suggestions are Mis-spelled words are {dict_of_autocorrect_words}')\n",
    "\n",
    "corrected_words = []\n",
    "for word in text.split():\n",
    "    # Ambil koreksi jika ada di dictionary; gunakan huruf kecil untuk mencocokkan\n",
    "    corrected_word = dict_of_autocorrect_words.get(word.lower(), word)\n",
    "    # Kembalikan kapitalisasi jika perlu\n",
    "    if word[0].isupper():\n",
    "        corrected_word = corrected_word.capitalize()\n",
    "    corrected_words.append(corrected_word)\n",
    "\n",
    "# Gabungkan kata-kata kembali menjadi teks\n",
    "corrected_text = ' '.join(corrected_words)\n",
    "\n",
    "# Menampilkan hasil\n",
    "print(f\"Original text: {text}\")\n",
    "print(f\"Corrected text: {corrected_text}\")\n",
    "\n"
   ]
  }
 ],
 "metadata": {
  "language_info": {
   "name": "python"
  }
 },
 "nbformat": 4,
 "nbformat_minor": 5
}
